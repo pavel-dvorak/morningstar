{
  "nbformat": 4,
  "nbformat_minor": 0,
  "metadata": {
    "colab": {
      "name": "google_search_isin.ipynb",
      "provenance": [],
      "collapsed_sections": [],
      "authorship_tag": "ABX9TyO+A4de480kA0DHUKvVT1yA",
      "include_colab_link": true
    },
    "kernelspec": {
      "name": "python3",
      "display_name": "Python 3"
    }
  },
  "cells": [
    {
      "cell_type": "markdown",
      "metadata": {
        "id": "view-in-github",
        "colab_type": "text"
      },
      "source": [
        "<a href=\"https://colab.research.google.com/github/pavel-dvorak/morningstar/blob/main/google_search_isin.ipynb\" target=\"_parent\"><img src=\"https://colab.research.google.com/assets/colab-badge.svg\" alt=\"Open In Colab\"/></a>"
      ]
    },
    {
      "cell_type": "code",
      "metadata": {
        "id": "Z0l2Cv8ehmqH"
      },
      "source": [
        "from googlesearch import search"
      ],
      "execution_count": null,
      "outputs": []
    },
    {
      "cell_type": "code",
      "metadata": {
        "id": "0b4gAoazLnnf"
      },
      "source": [
        "from bs4 import BeautifulSoup\r\n",
        "from urllib.parse import unquote\r\n",
        "import requests\r\n",
        "import lxml"
      ],
      "execution_count": null,
      "outputs": []
    },
    {
      "cell_type": "code",
      "metadata": {
        "id": "sucjWvX6h79e"
      },
      "source": [
        "isins = [\"IE00BD6FLZ12\", \"DE000A0D8Q07\"]"
      ],
      "execution_count": null,
      "outputs": []
    },
    {
      "cell_type": "code",
      "metadata": {
        "id": "y1Y3rRGFFtOP"
      },
      "source": [
        "isins = [\r\n",
        "          \"IE00BDRKT177\",\"IE00BRJT7K50\",\"LU0786609700\",\"LU1425256077\",\"LU1837047379\",\"LU1280280568\",\"IE00BSJCNS13\",\"IE00BVYPNZ31\",\"LU0209156925\",\"US46090E1038\",\"US46137V3574\",\"LU0590396015\",\"LU0406668342\",\"LU0248049412\",\"LU0129496690\",\"LU0248041781\",\"LU0129463922\",\"LU1586242577\",\"IE00BD8GKT91\",\"IE00BZ00NG13\",\"IE00B643RZ01\",\"LU0976026111\",\"LU1224039393\",\"LU0360481310\",\"LU0073233875\",\"LU0803997666\",\"LU0555027738\",\"IE00B3VTL690\",\"IE00B3RW8498\",\"IE00B3YQ1K12\"\r\n",
        "]"
      ],
      "execution_count": null,
      "outputs": []
    },
    {
      "cell_type": "code",
      "metadata": {
        "id": "qa14HIa4GfJa"
      },
      "source": [
        "final_data = []"
      ],
      "execution_count": null,
      "outputs": []
    },
    {
      "cell_type": "code",
      "metadata": {
        "id": "QdJ-UsIomUsS"
      },
      "source": [
        "for isin in isins: \r\n",
        "  site = \"site:morningstar \"\r\n",
        "  query = site + isin\r\n",
        "  # print (query)\r\n",
        "  for url in search(query, tld=\"co.in\", num=10, stop=1, pause=10): \r\n",
        "    r = requests.get(url)\r\n",
        "    data = r.text\r\n",
        "    soup = BeautifulSoup(data, \"html.parser\")\r\n",
        "    #print(soup.prettify())\r\n",
        "    id = url.split('=')[1]\r\n",
        "    f_name = soup.title.text\r\n",
        "\r\n",
        "    allrows = soup.findAll('tr')\r\n",
        "    for row in allrows:\r\n",
        "      if row.get_text().find('Ongoing Charge') > -1 : # Ongoing Charge #Bid Laufende Kosten\r\n",
        "        cells = row.findAll(\"td\")\r\n",
        "        column=(cells[0].text)\r\n",
        "        value=(cells[2].text)\r\n",
        "        #print(id , column, value, f_name )\r\n",
        "        row = isin + \";\" + url + \"; \" + column + \";\" + value.replace(\".\", \",\")\r\n",
        "        print (row)\r\n",
        "        final_data.append(row)\r\n"
      ],
      "execution_count": null,
      "outputs": []
    },
    {
      "cell_type": "code",
      "metadata": {
        "id": "iOXaTx6jGehb"
      },
      "source": [
        "import csv"
      ],
      "execution_count": null,
      "outputs": []
    },
    {
      "cell_type": "code",
      "metadata": {
        "id": "0jsHx1ziOEbf",
        "colab": {
          "base_uri": "https://localhost:8080/"
        },
        "outputId": "7dca09f9-737c-412b-8071-4f52a305fb18"
      },
      "source": [
        "resultFile = open(\"output.csv\",'w')\r\n",
        "\r\n",
        "# Write data to file\r\n",
        "for row in final_data:\r\n",
        "    resultFile.write(row + \"\\n\")\r\n",
        "resultFile.close()\r\n",
        "print(\"Done\")"
      ],
      "execution_count": null,
      "outputs": [
        {
          "output_type": "stream",
          "text": [
            "Done\n"
          ],
          "name": "stdout"
        }
      ]
    }
  ]
}