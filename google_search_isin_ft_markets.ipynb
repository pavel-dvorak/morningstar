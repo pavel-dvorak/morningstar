{
  "nbformat": 4,
  "nbformat_minor": 0,
  "metadata": {
    "colab": {
      "name": "google_search_isin ft.markets.ipynb",
      "provenance": [],
      "collapsed_sections": [],
      "authorship_tag": "ABX9TyPBzlBa8EjEfgzg6Obx09L6",
      "include_colab_link": true
    },
    "kernelspec": {
      "name": "python3",
      "display_name": "Python 3"
    }
  },
  "cells": [
    {
      "cell_type": "markdown",
      "metadata": {
        "id": "view-in-github",
        "colab_type": "text"
      },
      "source": [
        "<a href=\"https://colab.research.google.com/github/pavel-dvorak/morningstar/blob/main/google_search_isin_ft_markets.ipynb\" target=\"_parent\"><img src=\"https://colab.research.google.com/assets/colab-badge.svg\" alt=\"Open In Colab\"/></a>"
      ]
    },
    {
      "cell_type": "code",
      "metadata": {
        "id": "Z0l2Cv8ehmqH"
      },
      "source": [
        "from googlesearch import search"
      ],
      "execution_count": 6,
      "outputs": []
    },
    {
      "cell_type": "code",
      "metadata": {
        "id": "0b4gAoazLnnf"
      },
      "source": [
        "from bs4 import BeautifulSoup\r\n",
        "from urllib.parse import unquote\r\n",
        "import requests\r\n",
        "import lxml"
      ],
      "execution_count": 7,
      "outputs": []
    },
    {
      "cell_type": "code",
      "metadata": {
        "id": "sucjWvX6h79e"
      },
      "source": [
        "isins = [\"US4642866655\", \"AT0000A1YRA2\"]"
      ],
      "execution_count": 8,
      "outputs": []
    },
    {
      "cell_type": "code",
      "metadata": {
        "id": "y1Y3rRGFFtOP"
      },
      "source": [
        "#isins = [\"IE00BKWQ0C77\",\"LU1159236337\",\"LU1960396510\",\"LU0382931417\",\"LU0382933116\",\"LU0640477955\",\"LU0570871706\",\"LU0402513328\",\"IE00B841P542\",\"LU0950674332\",\"LU0126315885\",\"IE00BZ04LQ92\",\"IE00BD065N65\"]"
      ],
      "execution_count": 9,
      "outputs": []
    },
    {
      "cell_type": "code",
      "metadata": {
        "id": "qa14HIa4GfJa"
      },
      "source": [
        "final_data = []"
      ],
      "execution_count": 10,
      "outputs": []
    },
    {
      "cell_type": "code",
      "metadata": {
        "id": "QdJ-UsIomUsS",
        "colab": {
          "base_uri": "https://localhost:8080/"
        },
        "outputId": "9067863f-9a70-4a8a-9946-96324a4ce234"
      },
      "source": [
        "for isin in isins: \r\n",
        "  site = \"site:markets.ft.com \"\r\n",
        "  query = site + isin\r\n",
        "  # print (query)\r\n",
        "  for url in search(query, tld=\"co.in\", num=10, stop=1, pause=10): \r\n",
        "    r = requests.get(url)\r\n",
        "    data = r.text\r\n",
        "    soup = BeautifulSoup(data, \"html.parser\")\r\n",
        "    #print(soup.prettify())\r\n",
        "    id = url.split('=')[1]\r\n",
        "    f_name = soup.title.text\r\n",
        "\r\n",
        "    allrows = soup.findAll('tr')\r\n",
        "    for row in allrows:\r\n",
        "      if row.get_text().find('Ongoing charge') > -1 : # Ongoing Charge #Bid Laufende Kosten\r\n",
        "        cells = row.findAll(\"td\")\r\n",
        "        value=(cells[0].text)\r\n",
        "        #print(id , column, value, f_name )\r\n",
        "        row = isin + \";\" + url + \"; \" + value.replace(\".\", \",\")\r\n",
        "        print (row)\r\n",
        "        final_data.append(row)\r\n"
      ],
      "execution_count": 11,
      "outputs": [
        {
          "output_type": "stream",
          "text": [
            "AT0000A1YRA2;https://markets.ft.com/data/funds/tearsheet/summary?s=AT0000A1YRA2:USD; 0,34%\n"
          ],
          "name": "stdout"
        }
      ]
    },
    {
      "cell_type": "code",
      "metadata": {
        "id": "iOXaTx6jGehb"
      },
      "source": [
        "import csv"
      ],
      "execution_count": 12,
      "outputs": []
    },
    {
      "cell_type": "code",
      "metadata": {
        "id": "0jsHx1ziOEbf",
        "colab": {
          "base_uri": "https://localhost:8080/"
        },
        "outputId": "4b4a2a03-cbe7-47be-8ce5-fa0be8a00204"
      },
      "source": [
        "resultFile = open(\"output.csv\",'w')\r\n",
        "\r\n",
        "# Write data to file\r\n",
        "for row in final_data:\r\n",
        "    resultFile.write(row + \"\\n\")\r\n",
        "resultFile.close()\r\n",
        "print(\"Done\")"
      ],
      "execution_count": 14,
      "outputs": [
        {
          "output_type": "stream",
          "text": [
            "Done\n"
          ],
          "name": "stdout"
        }
      ]
    }
  ]
}