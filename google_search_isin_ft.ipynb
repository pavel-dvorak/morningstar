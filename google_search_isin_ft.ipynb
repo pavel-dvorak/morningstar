{
  "nbformat": 4,
  "nbformat_minor": 0,
  "metadata": {
    "colab": {
      "name": "google_search_isin.ipynb",
      "provenance": [],
      "collapsed_sections": [],
      "authorship_tag": "ABX9TyMBxUdzk9dB6ElqSeVMtjVL",
      "include_colab_link": true
    },
    "kernelspec": {
      "name": "python3",
      "display_name": "Python 3"
    }
  },
  "cells": [
    {
      "cell_type": "markdown",
      "metadata": {
        "id": "view-in-github",
        "colab_type": "text"
      },
      "source": [
        "<a href=\"https://colab.research.google.com/github/pavel-dvorak/morningstar/blob/main/google_search_isin_ft.ipynb\" target=\"_parent\"><img src=\"https://colab.research.google.com/assets/colab-badge.svg\" alt=\"Open In Colab\"/></a>"
      ]
    },
    {
      "cell_type": "code",
      "metadata": {
        "id": "Z0l2Cv8ehmqH"
      },
      "source": [
        "from googlesearch import search"
      ],
      "execution_count": 33,
      "outputs": []
    },
    {
      "cell_type": "code",
      "metadata": {
        "id": "0b4gAoazLnnf"
      },
      "source": [
        "from bs4 import BeautifulSoup\r\n",
        "from urllib.parse import unquote\r\n",
        "import requests\r\n",
        "import lxml"
      ],
      "execution_count": 34,
      "outputs": []
    },
    {
      "cell_type": "code",
      "metadata": {
        "id": "sucjWvX6h79e"
      },
      "source": [
        "#isins = [\"IE00BD6FLZ12\", \"DE000A0D8Q07\"]"
      ],
      "execution_count": 35,
      "outputs": []
    },
    {
      "cell_type": "code",
      "metadata": {
        "id": "y1Y3rRGFFtOP"
      },
      "source": [
        "isins = [\"IE00BKWQ0C77\",\"LU1159236337\",\"LU1960396510\",\"LU0382931417\",\"LU0382933116\",\"LU0640477955\",\"LU0570871706\",\"LU0402513328\",\"IE00B841P542\",\"LU0950674332\",\"LU0126315885\",\"IE00BZ04LQ92\",\"IE00BD065N65\"]"
      ],
      "execution_count": 36,
      "outputs": []
    },
    {
      "cell_type": "code",
      "metadata": {
        "id": "qa14HIa4GfJa"
      },
      "source": [
        "final_data = []"
      ],
      "execution_count": 37,
      "outputs": []
    },
    {
      "cell_type": "code",
      "metadata": {
        "id": "QdJ-UsIomUsS",
        "colab": {
          "base_uri": "https://localhost:8080/"
        },
        "outputId": "85063ab4-f4b0-492a-8481-132f3127d676"
      },
      "source": [
        "for isin in isins: \r\n",
        "  site = \"site:morningstar.co.uk \"\r\n",
        "  query = site + isin\r\n",
        "  # print (query)\r\n",
        "  for url in search(query, tld=\"co.in\", num=10, stop=1, pause=10): \r\n",
        "    r = requests.get(url)\r\n",
        "    data = r.text\r\n",
        "    soup = BeautifulSoup(data, \"html.parser\")\r\n",
        "    #print(soup.prettify())\r\n",
        "    id = url.split('=')[1]\r\n",
        "    f_name = soup.title.text\r\n",
        "\r\n",
        "    allrows = soup.findAll('tr')\r\n",
        "    for row in allrows:\r\n",
        "      if row.get_text().find('Ongoing Charge') > -1 : # Ongoing Charge #Bid Laufende Kosten\r\n",
        "        cells = row.findAll(\"td\")\r\n",
        "        column=(cells[0].text)\r\n",
        "        value=(cells[2].text)\r\n",
        "        #print(id , column, value, f_name )\r\n",
        "        row = isin + \";\" + url + \"; \" + column + \";\" + value.replace(\".\", \",\")\r\n",
        "        print (row)\r\n",
        "        final_data.append(row)\r\n"
      ],
      "execution_count": 38,
      "outputs": [
        {
          "output_type": "stream",
          "text": [
            "IE00BKWQ0C77;https://www.morningstar.co.uk/uk/etf/snapshot/snapshot.aspx?id=0P0001529E&InvestmentType=FE; Ongoing Charge11/02/2021;0,30%\n",
            "LU1159236337;https://www.morningstar.co.uk/uk/funds/snapshot/snapshot.aspx?id=F00000W9MT; Ongoing Charge12/02/2021;0,25%\n",
            "LU0382931417;https://www.morningstar.co.uk/uk/funds/snapshot/snapshot.aspx?id=F000002TD7; Ongoing Charge10/03/2021;1,05%\n",
            "LU0382933116;https://www.morningstar.co.uk/uk/funds/snapshot/snapshot.aspx?id=F000002TD9; Ongoing Charge10/03/2021;0,85%\n",
            "LU0640477955;https://www.morningstar.co.uk/uk/funds/snapshot/snapshot.aspx?id=F00000N6ZU; Ongoing Charge22/01/2021;1,05%\n",
            "LU0570871706;https://www.morningstar.co.uk/uk/funds/snapshot/snapshot.aspx?id=0P0000YR2F; Ongoing Charge29/01/2021;0,95%\n",
            "IE00B841P542;https://www.morningstar.co.uk/uk/funds/snapshot/snapshot.aspx?id=F00000OWSR; Ongoing Charge18/02/2021;0,90%\n",
            "LU0126315885;https://www.morningstar.co.uk/uk/funds/snapshot/snapshot.aspx?id=F0GBR04MIJ; Ongoing Charge12/02/2021;1,51%\n",
            "IE00BZ04LQ92;https://www.morningstar.co.uk/uk/funds/snapshot/snapshot.aspx?id=F00000WCSJ; Ongoing Charge16/02/2021;0,08%\n",
            "IE00BD065N65;https://www.morningstar.co.uk/uk/funds/snapshot/snapshot.aspx?id=F00000YIL6; Ongoing Charge18/02/2020;0,79%\n"
          ],
          "name": "stdout"
        }
      ]
    },
    {
      "cell_type": "code",
      "metadata": {
        "id": "iOXaTx6jGehb"
      },
      "source": [
        "import csv"
      ],
      "execution_count": 39,
      "outputs": []
    },
    {
      "cell_type": "code",
      "metadata": {
        "id": "0jsHx1ziOEbf",
        "colab": {
          "base_uri": "https://localhost:8080/"
        },
        "outputId": "dcac7237-0f4e-4061-93bb-dfaeb1eb8dbc"
      },
      "source": [
        "resultFile = open(\"output.csv\",'w')\r\n",
        "\r\n",
        "# Write data to file\r\n",
        "for row in final_data:\r\n",
        "    resultFile.write(row + \"\\n\")\r\n",
        "resultFile.close()\r\n",
        "print(\"Done\")"
      ],
      "execution_count": 40,
      "outputs": [
        {
          "output_type": "stream",
          "text": [
            "Done\n"
          ],
          "name": "stdout"
        }
      ]
    }
  ]
}